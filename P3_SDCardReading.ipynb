{
 "cells": [
  {
   "cell_type": "code",
   "execution_count": 1,
   "metadata": {
    "collapsed": false
   },
   "outputs": [],
   "source": [
    "import numpy as np\n",
    "import csv\n",
    "from pydub import AudioSegment \n",
    "import matplotlib.pyplot as plt # naming convention for matplotlib\n",
    "import waveform_analysis as wan #import A-weighting from https://github.com/endolith/waveform_analysis\n",
    "from scipy.io import wavfile as wav\n",
    "from scipy.fftpack import fft # import discrete fourier transform and its inverse\n",
    "from scipy import signal\n",
    "from scipy.io.wavfile import write\n",
    "import json"
   ]
  },
  {
   "cell_type": "markdown",
   "metadata": {},
   "source": [
    "## Convert file from log.bin to log.csv\n",
    "# DO NOT RUN THIS IT'S JUST FOR REFERENCE\n",
    "# RUN FROM SUBLIME"
   ]
  },
  {
   "cell_type": "code",
   "execution_count": null,
   "metadata": {
    "collapsed": false
   },
   "outputs": [],
   "source": [
    "csv = open('log.csv', 'w')\n",
    "csv.write('counter, offset, time, sample\\n')\n",
    "\n",
    "# CONVERT SD CARD DATA TO CSV\n",
    "# COUNTER, OFFSET, TIME, SAMPLE\n",
    "\n",
    "with open(\"log.bin\", \"rb\") as f:\n",
    "    byte = f.read(4)\n",
    "    count = 1\n",
    "    separator = ', '\n",
    "    while byte:\n",
    "        unpacked = struct.unpack('i', byte)\n",
    "        csv.write(str(unpacked[0]) + separator)\n",
    "        byte = f.read(4)\n",
    "        count += 1;\n",
    "        separator = '\\n' if (count % 4 == 0) else ', '\n",
    "\n",
    "csv.close()\n",
    "f.close()"
   ]
  },
  {
   "cell_type": "markdown",
   "metadata": {},
   "source": [
    "## Clean up CSV file\n",
    "##### you can run this here"
   ]
  },
  {
   "cell_type": "code",
   "execution_count": null,
   "metadata": {
    "collapsed": false
   },
   "outputs": [],
   "source": [
    "with open(\"log.csv\",'r') as f:\n",
    "    with open(\"log_edited.csv\",'w') as f1:\n",
    "        f.readline() # skip header line\n",
    "        for line in f:\n",
    "            f1.write(line)\n",
    "\n",
    "\n",
    "# CONVERT CSV TO ARRAY\n",
    "\n",
    "get_timer_reference = 0;\n",
    "\n",
    "   #GETS ZERO-TH TIME\n",
    "with open(\"log_edited.csv\") as z:\n",
    "    mycsv = csv.reader(z, quoting=csv.QUOTE_NONNUMERIC)\n",
    "    mycsv = list(mycsv)\n",
    "    get_timer_reference = int(mycsv[0][2])\n",
    "\n",
    "    #CONVERTS TO INT ARRAY\n",
    "with open(\"log_edited.csv\") as csvfile:\n",
    "    data = csv.reader(csvfile, quoting=csv.QUOTE_NONNUMERIC)\n",
    "    time, sample = [], []\n",
    "    for row in data:\n",
    "        time.append(int(row[2]) - get_timer_reference)\n",
    "        sample.append(int(row[3]))\n",
    "print(\"Success\")"
   ]
  },
  {
   "cell_type": "code",
   "execution_count": null,
   "metadata": {
    "collapsed": false
   },
   "outputs": [],
   "source": [
    "plt.plot(time, sample) # change the indices to zoom in/out in time\n",
    "plt.title('Waveform')\n",
    "plt.ylabel('Amplitude')\n",
    "plt.xlabel('Time')\n",
    "plt.show()"
   ]
  },
  {
   "cell_type": "markdown",
   "metadata": {},
   "source": [
    "## WAV Conversion"
   ]
  },
  {
   "cell_type": "code",
   "execution_count": null,
   "metadata": {
    "collapsed": true
   },
   "outputs": [],
   "source": [
    "scaled = np.int16(sample/np.max(np.abs(sample)) * 32767)\n",
    "write('3lp_f_var.wav', 100000, scaled)"
   ]
  },
  {
   "cell_type": "markdown",
   "metadata": {},
   "source": [
    "### M4A to WAV conversion"
   ]
  },
  {
   "cell_type": "code",
   "execution_count": 23,
   "metadata": {
    "collapsed": false
   },
   "outputs": [
    {
     "data": {
      "text/plain": [
       "<_io.BufferedRandom name='piezo/cf.wav'>"
      ]
     },
     "execution_count": 23,
     "metadata": {},
     "output_type": "execute_result"
    }
   ],
   "source": [
    "#Conversion from .m4a to .wav\n",
    "#TO DO: Read file extension to decide if conversion necessary, catch errors if wrong file ext\n",
    "fileName = \"cf\"\n",
    "path = \"piezo/\" + fileName\n",
    "\n",
    "sound = AudioSegment.from_file(path + \".m4a\", format=\"m4a\")\n",
    "file_handle = sound.export(path + \".wav\", format=\"wav\")\n",
    "\n",
    "wav_sound = AudioSegment.from_wav(path + \".wav\")\n",
    "wav_sound = wav_sound.set_channels(1)\n",
    "wav_sound.export(path + \".wav\", format=\"wav\")"
   ]
  },
  {
   "cell_type": "markdown",
   "metadata": {},
   "source": [
    "##  Signal Processing \n",
    "\n",
    "##### for all your processing needs after WAV conversion\n",
    "\n",
    "Currently displays waveform, FFT, spectrogram, and PSD.\n",
    "\n",
    "NOTE: emily come edit this and normalize the y valus"
   ]
  },
  {
   "cell_type": "code",
   "execution_count": 20,
   "metadata": {
    "collapsed": false
   },
   "outputs": [
    {
     "name": "stdout",
     "output_type": "stream",
     "text": [
      "[  0   0  -1 ... -64 -69 -36]\n"
     ]
    }
   ],
   "source": [
    "#FOR EXAMPLE: Folder: Bone Transducer, fileName = BoneTransducer_T02_2\n",
    "#don't include .wav for obvious reasons\n",
    "folder = 'piezo'\n",
    "fileName = 'piezo_chirp_healthy_1'\n",
    "sampFreq, snd = wav.read(folder + \"/\" + fileName + '.wav')\n",
    "\n",
    "fileName2 = 'piezo_chirp_cf_1'\n",
    "sampFreq2, snd2 = wav.read(folder + \"/\" + fileName2 + '.wav')\n",
    "\n",
    "fileName3 = 'cf'\n",
    "sampFreq3, snd3 = wav.read(folder + \"/\" + fileName3 + '.wav')\n",
    "\n",
    "print(snd)"
   ]
  },
  {
   "cell_type": "code",
   "execution_count": 59,
   "metadata": {
    "collapsed": false
   },
   "outputs": [],
   "source": [
    "# PREPROCESSING DATA\n",
    "\n",
    "# ZERO-MEAN \n",
    "snd = (snd - snd.mean()) / snd.std()\n",
    "#snd = snd[50000:1450000] #used for dropouts\n",
    "\n",
    "\n",
    "\n",
    "\n",
    "\n",
    "\n",
    "snd2 = (snd2 - snd2.mean()) / snd2.std()\n",
    "\n",
    "\n",
    "\n",
    "snd3 = (snd3 - snd3.mean()) / snd3.std()\n",
    "\n"
   ]
  },
  {
   "cell_type": "code",
   "execution_count": 60,
   "metadata": {
    "collapsed": true
   },
   "outputs": [],
   "source": [
    "# 60 HZ INTERFERENCE NOTCH FILTER\n",
    "f0 = 60.0  # Frequency to be removed from signal (Hz)\n",
    "Q = 40.0  # Quality factor\n",
    "w0 = f0/(sampFreq/2)  # Normalized Frequency\n",
    "# Design notch filter\n",
    "b, a = signal.iirnotch(w0, Q)\n",
    "snd = signal.filtfilt(b, a, snd)\n",
    "\n",
    "# 60 HZ INTERFERENCE NOTCH FILTER\n",
    "f0 = 60.0  # Frequency to be removed from signal (Hz)\n",
    "Q = 40.0  # Quality factor\n",
    "w0 = f0/(sampFreq/2)  # Normalized Frequency\n",
    "# Design notch filter\n",
    "b, a = signal.iirnotch(w0, Q)\n",
    "snd2 = signal.filtfilt(b, a, snd2)\n",
    "\n",
    "# 60 HZ INTERFERENCE NOTCH FILTER\n",
    "f0 = 60.0  # Frequency to be removed from signal (Hz)\n",
    "Q = 40.0  # Quality factor\n",
    "w0 = f0/(sampFreq/2)  # Normalized Frequency\n",
    "# Design notch filter\n",
    "b, a = signal.iirnotch(w0, Q)\n",
    "snd3 = signal.filtfilt(b, a, snd3)"
   ]
  },
  {
   "cell_type": "markdown",
   "metadata": {},
   "source": [
    "##### Optional:  Rewrite wav file without 60 Hz noise"
   ]
  },
  {
   "cell_type": "code",
   "execution_count": null,
   "metadata": {
    "collapsed": false
   },
   "outputs": [],
   "source": [
    "scaled = np.int16(snd3/np.max(np.abs(snd)) * 32767)\n",
    "write(folder + fileName3 + '_zeromean' + '.wav', 100000, scaled)"
   ]
  },
  {
   "cell_type": "markdown",
   "metadata": {},
   "source": [
    "##### Actual Analysis"
   ]
  },
  {
   "cell_type": "code",
   "execution_count": null,
   "metadata": {
    "collapsed": false
   },
   "outputs": [],
   "source": [
    "#TO DO: Adjust indexing for FFT, catch errors that result (or just actually make a good FFT...)\n",
    "\n",
    "# INITIALIZE\n",
    "fig = plt.figure()\n",
    "\n",
    "fig, ((ax1, ax2), (ax3, ax4)) = plt.subplots(nrows=2, ncols=2, figsize=(15,10))\n",
    "\n",
    "file_len = len(snd)\n",
    "\n",
    "# PLOT AUDIO WAVEFORM\n",
    "timeArray = np.arange(0, len(snd), 1)\n",
    "timeArray = timeArray / sampFreq\n",
    "print(\"Length of file: \" + str(len(snd)/sampFreq) + \"s\")\n",
    "ax1.plot(timeArray, snd, color='k')\n",
    "ax1.set_title('Audio Waveform')\n",
    "ax1.set_xlabel('Time (s)')\n",
    "ax1.set_ylabel('Amplitude')\n",
    " \n",
    "# CALCULATE FFT\n",
    "\n",
    "dft = fft(snd[:600000]) # calculate fourier transform #if you want a \n",
    "N = len(dft) # length of discrete fourier transform\n",
    "freqs = [i*sampFreq/N for i in range(N)] # convert from dft frequencies to Hz\n",
    "#dft_norm = np.amax(np.abs(dft))\n",
    "#ax2.plot(freqs, np.abs(dft)/dft_norm, color='k') # change the indices to zoom in/out in frequency\n",
    "ax2.plot(freqs, np.abs(dft), color='k') # change the indices to zoom in/out in frequency\n",
    "ax2.set_title('Freq Analysis')\n",
    "ax2.set_xlabel('Frequencies (Hz)')\n",
    "ax2.set_ylabel('DFT Coefficients')\n",
    "ax2.set_xlim([0,1000])\n",
    "\n",
    "# CALCULATE SPECTROGRAM\n",
    "\n",
    "Pxx, freqs, bins, im = ax3.specgram(snd, NFFT=4096, Fs=sampFreq)\n",
    "ax3.set_title('Spectrogram')\n",
    "ax3.set_xlabel('Frequency')\n",
    "ax3.set_ylabel('Magnitude')\n",
    "ax3.set_ylim([0,1000])\n",
    "\n",
    "# CALCULATE PSD (based on Welch)\n",
    "f, Pxx_den = signal.welch(snd[:file_len], sampFreq, nperseg=2048, return_onesided=True, scaling='spectrum') #PLACE INDEX HERE\n",
    "#Pxx_den_norm = np.amax(Pxx_den)\n",
    "#ax4.plot(f, Pxx_den/Pxx_den_norm, color='k')\n",
    "ax4.plot(f, Pxx_den, color='k')\n",
    "ax4.set_title('PSD (Welch)')\n",
    "ax4.set_xlabel('Frequency [Hz]')\n",
    "ax4.set_ylabel('PSD [V^2/Hz]')\n",
    "ax4.set_xlim([0,1000])\n",
    "\n",
    "# POST-CALCULATION AESTHETIC\n",
    "\n",
    "plt.suptitle('Results for ' + fileName, fontsize=20)\n",
    "plt.tight_layout(rect=[0, 0.03, 1, 0.92])\n",
    "plt.show()"
   ]
  },
  {
   "cell_type": "code",
   "execution_count": null,
   "metadata": {
    "collapsed": false
   },
   "outputs": [],
   "source": [
    "# this is a test box to try different plots without running the entire thing\n"
   ]
  },
  {
   "cell_type": "code",
   "execution_count": null,
   "metadata": {
    "collapsed": false
   },
   "outputs": [],
   "source": [
    "fig.savefig(folder + '/' + fileName +'.png', bbox_inches='tight')\n",
    "print(\"Saved!\")"
   ]
  },
  {
   "cell_type": "code",
   "execution_count": null,
   "metadata": {
    "collapsed": true
   },
   "outputs": [],
   "source": [
    "plt.close()"
   ]
  },
  {
   "cell_type": "markdown",
   "metadata": {},
   "source": [
    "## EXPERIMENTAL"
   ]
  },
  {
   "cell_type": "code",
   "execution_count": 45,
   "metadata": {
    "collapsed": false
   },
   "outputs": [],
   "source": [
    "def rms_flat(a):\n",
    "    a = np.sqrt(np.mean(np.abs(a)**2))\n",
    "    return a\n",
    "\n",
    "Aweighted1 = wan.A_weight(snd, sampFreq)\n",
    "Aweighted_level1 = rms_flat(Aweighted1)\n",
    "\n",
    "Aweighted2 = wan.A_weight(snd2, sampFreq)\n",
    "Aweighted_level2 = rms_flat(Aweighted2)\n",
    "\n",
    "Aweighted3 = wan.A_weight(snd3, sampFreq)\n",
    "Aweighted_level3 = rms_flat(Aweighted3)"
   ]
  },
  {
   "cell_type": "code",
   "execution_count": 46,
   "metadata": {
    "collapsed": false
   },
   "outputs": [
    {
     "name": "stdout",
     "output_type": "stream",
     "text": [
      "225.4613348345159\n",
      "151.62348917949112\n",
      "522.263640683791\n"
     ]
    }
   ],
   "source": [
    "print(Aweighted_level1)\n",
    "print(Aweighted_level2)\n",
    "print(Aweighted_level3)"
   ]
  },
  {
   "cell_type": "code",
   "execution_count": null,
   "metadata": {
    "collapsed": false
   },
   "outputs": [],
   "source": [
    "with open(\"spectrums/brp_cf_t06.csv\") as csvfile:\n",
    "    \n",
    "    data = csv.reader(csvfile, quoting=csv.QUOTE_NONNUMERIC)\n",
    "    \n",
    "    frequency, dB = [], []\n",
    "    for row in data:\n",
    "        frequency.append(int(row[0]))\n",
    "        dB.append(int(row[1]))\n",
    "        \n",
    "with open(\"spectrums/brp_f_t06.csv\") as csvfile:\n",
    "    \n",
    "    data = csv.reader(csvfile, quoting=csv.QUOTE_NONNUMERIC)\n",
    "    \n",
    "    frequency2, dB2 = [], []\n",
    "    for row in data:\n",
    "        frequency2.append(int(row[0]))\n",
    "        dB2.append(int(row[1]))\n",
    "        \n",
    "with open(\"spectrums/brp_h_t06.csv\") as csvfile:\n",
    "    \n",
    "    data = csv.reader(csvfile, quoting=csv.QUOTE_NONNUMERIC)\n",
    "    \n",
    "    frequency3, dB3 = [], []\n",
    "    for row in data:\n",
    "        frequency3.append(int(row[0]))\n",
    "        dB3.append(int(row[1]))\n",
    "print(\"Success\")\n"
   ]
  },
  {
   "cell_type": "code",
   "execution_count": null,
   "metadata": {
    "collapsed": false
   },
   "outputs": [],
   "source": [
    "fig = plt.figure()\n",
    "\n",
    "plt.plot(frequency3, dB3, label=\"h\", color='g')\n",
    "plt.plot(frequency2, dB2, label=\"f\", color='b')\n",
    "plt.plot(frequency, dB, label=\"cf\", color='r')\n",
    "plt.title('dB vs Hz for 400Hz')\n",
    "plt.xlabel('frequency [Hz]')\n",
    "plt.ylabel('dB')\n",
    "plt.legend(bbox_to_anchor=(1.05, 1), loc=2, borderaxespad=0.)\n",
    "plt.xlim(0,1100)\n",
    "plt.ylim([-100,0])\n",
    "plt.show()"
   ]
  },
  {
   "cell_type": "code",
   "execution_count": null,
   "metadata": {
    "collapsed": false
   },
   "outputs": [],
   "source": [
    "fig.savefig('spectrums/brp_T04_nozeromean.png', bbox_inches='tight') #CHANGE HERE\n",
    "print(\"Saved!\")"
   ]
  },
  {
   "cell_type": "code",
   "execution_count": 18,
   "metadata": {
    "collapsed": false
   },
   "outputs": [
    {
     "name": "stdout",
     "output_type": "stream",
     "text": [
      "hi\n",
      "[ 69.323175    68.22839839  80.85546907  85.01969408  89.53507315\n",
      " 102.40575374 111.68174456 115.51382399 115.85520008 115.23855429\n",
      " 114.12024677 110.25426631 102.66472619 100.85695872 102.84245111\n",
      "  99.47872327  94.39243047  95.09262079  98.74864979  99.77639391\n",
      " 101.38679932 102.62089457 100.342642    94.33025258  84.63773869\n",
      "  82.29926986  78.95398749  76.83903476  78.8189306   79.70239831\n",
      "  90.00325666  91.84264886  85.73244685  82.696861    80.24887822\n",
      "  80.40079232  86.07789236  83.12170935  73.89400628  74.95345656\n",
      "  73.69811136  79.26904834  81.85609771  75.17735726  73.10774893\n",
      "  73.56171788  72.95142882  79.39649991  77.97908698  70.48516006]\n"
     ]
    }
   ],
   "source": [
    "s = 2048\n",
    "\n",
    "pxx, freqs, bins, _ = plt.specgram(snd, NFFT=s, Fs=sampFreq, noverlap=s/2,\n",
    "                                 sides='onesided',\n",
    "                                   window=signal.hann(s),\n",
    "                                   scale_by_freq=True,\n",
    "                                   mode='magnitude')\n",
    "\n",
    "pxx2, freqs2, bins2, _ = plt.specgram(snd2, NFFT=s, Fs=sampFreq, noverlap=s/2,\n",
    "                                 sides='onesided',\n",
    "                                   window=signal.hann(s),\n",
    "                                   scale_by_freq=True,\n",
    "                                   mode='magnitude')\n",
    "\n",
    "#pxx3, freqs3, bins3, _ = plt.specgram(snd3, NFFT=s, Fs=sampFreq, noverlap=s/2,\n",
    "                              #   sides='onesided',\n",
    "                              #     window=signal.hann(s),\n",
    "                              #     scale_by_freq=True,\n",
    "                                   mode='magnitude')\n",
    "print(\"hi\")\n",
    "\n",
    "y_axis = np.mean(pxx, axis=1)\n",
    "y_axis2 = np.log10(np.mean(pxx2, axis=1)\n",
    "\n",
    "y_axis3 = 20*np.log10(np.mean(pxx3, axis=1))\n",
    "\n",
    "print(y_axis2[:50])"
   ]
  },
  {
   "cell_type": "code",
   "execution_count": 14,
   "metadata": {
    "collapsed": false
   },
   "outputs": [
    {
     "data": {
      "image/png": "[encoded data removed]",
      "text/plain": [
       "<matplotlib.figure.Figure at 0x109696e80>"
      ]
     },
     "metadata": {},
     "output_type": "display_data"
    },
    {
     "name": "stdout",
     "output_type": "stream",
     "text": [
      "Healthy: 97746.46798902006\n",
      "Fracture: 94064.91972366987\n",
      "CF: 87782.67317500841\n",
      "Suspected transmission rate is: 96.0% compared to the healthy side.\n"
     ]
    }
   ],
   "source": [
    "\n",
    "\n",
    "plt.title('Magnitude vs Frequency')\n",
    "plt.plot(freqs[:50], y_axis[:50], 'g', label=\"h\")\n",
    "plt.plot(freqs2[:50], y_axis2[:50], 'b', label=\"f\")\n",
    "#plt.plot(freqs3[:50], y_axis3[:50], 'r', label=\"cf\")\n",
    "plt.legend(bbox_to_anchor=(1.05, 1), loc=2, borderaxespad=0.)\n",
    "\n",
    "plt.xlabel('Frequency (Hz)')\n",
    "plt.ylabel('Magnitude (dB)')\n",
    "plt.xlim(0,1100)\n",
    "    plt.ylim(-30,200)\n",
    "    plt.show()\n",
    "\n",
    "area_1 = np.trapz(y_axis[:50], freqs[:50])\n",
    "area_2 = np.trapz(y_axis2[:50], freqs2[:50])\n",
    "#area_3 = np.trapz(y_axis3[:50], freqs3[:50])\n",
    "print(\"Healthy: \" + str(area_1))\n",
    "print(\"Fracture: \" + str(area_2))\n",
    "#print(\"CF: \" + str(area_3))\n",
    "\n",
    "print(\"Suspected transmission rate is: \" + str(np.round(area_2 / area_1, decimals=2) * 100) + \"% compared to the healthy side.\")"
   ]
  },
  {
   "cell_type": "code",
   "execution_count": 27,
   "metadata": {
    "collapsed": false
   },
   "outputs": [
    {
     "ename": "NameError",
     "evalue": "name 'tf' is not defined",
     "output_type": "error",
     "traceback": [
      "\u001b[0;31m---------------------------------------------------------------------------\u001b[0m",
      "\u001b[0;31mNameError\u001b[0m                                 Traceback (most recent call last)",
      "\u001b[0;32m<ipython-input-27-73d5cfb585a4>\u001b[0m in \u001b[0;36m<module>\u001b[0;34m()\u001b[0m\n\u001b[1;32m      7\u001b[0m \u001b[0mfft_length\u001b[0m \u001b[0;34m=\u001b[0m \u001b[0;36m4096\u001b[0m\u001b[0;34m\u001b[0m\u001b[0m\n\u001b[1;32m      8\u001b[0m \u001b[0;34m\u001b[0m\u001b[0m\n\u001b[0;32m----> 9\u001b[0;31m \u001b[0maudio_file\u001b[0m \u001b[0;34m=\u001b[0m \u001b[0mtf\u001b[0m\u001b[0;34m.\u001b[0m\u001b[0mplaceholder\u001b[0m\u001b[0;34m(\u001b[0m\u001b[0mtf\u001b[0m\u001b[0;34m.\u001b[0m\u001b[0mstring\u001b[0m\u001b[0;34m)\u001b[0m\u001b[0;34m\u001b[0m\u001b[0m\n\u001b[0m\u001b[1;32m     10\u001b[0m \u001b[0;34m\u001b[0m\u001b[0m\n\u001b[1;32m     11\u001b[0m \u001b[0maudio_binary\u001b[0m \u001b[0;34m=\u001b[0m \u001b[0mtf\u001b[0m\u001b[0;34m.\u001b[0m\u001b[0mread_file\u001b[0m\u001b[0;34m(\u001b[0m\u001b[0maudio_file\u001b[0m\u001b[0;34m)\u001b[0m\u001b[0;34m\u001b[0m\u001b[0m\n",
      "\u001b[0;31mNameError\u001b[0m: name 'tf' is not defined"
     ]
    }
   ],
   "source": [
    "# Begin TensorFlow\n",
    "# Taken from Neil\n",
    "\n",
    "sample_rate = 100000\n",
    "frame_length = 2048\n",
    "frame_step = 512\n",
    "fft_length = 4096\n",
    "\n",
    "audio_file = tf.placeholder(tf.string)\n",
    "\n",
    "audio_binary = tf.read_file(audio_file)\n",
    "waveform = tf.contrib.ffmpeg.decode_audio(\n",
    "    audio_binary,\n",
    "    file_format=\"wav\",\n",
    "    samples_per_second=sample_rate,    # Get Info on .wav files (sample rate)\n",
    "    channel_count=1             # Get Info on .wav files (audio channels)\n",
    ")\n",
    "\n",
    "stft = tf.contrib.signal.stft(\n",
    "    tf.transpose(waveform),\n",
    "    frame_length,     # frame_lenght, hmmm\n",
    "    frame_step,     # frame_step, more hmms\n",
    "    fft_length=fft_length,\n",
    "    window_fn=functools.partial(tf.contrib.signal.hann_window, periodic=False), # matches audacity\n",
    "    pad_end=False,\n",
    "    name=\"STFT\"\n",
    ")\n",
    "\n",
    "average_fft = tf.reduce_mean(tf.squeeze(stft), 0)\n",
    "\n",
    "# https://medium.com/towards-data-science/audio-processing-in-tensorflow-208f1a4103aa\n",
    "# magnitude spectrum of positive frequencies in dB\n",
    "abs_fft = tf.abs(average_fft)\n",
    "\n",
    "def log10(x):\n",
    "    num = tf.log(x)\n",
    "    den = tf.log(tf.constant(10, dtype=num.dtype))\n",
    "    return(tf.div(num, den))\n",
    "\n",
    "# Add 1 to ensure all powers are greater than 0 (since taking log base 10)\n",
    "magnitude = 20 * log10(abs_fft + 1)\n",
    "\n",
    "# Initializing the variables\n",
    "init = tf.global_variables_initializer()"
   ]
  },
  {
   "cell_type": "code",
   "execution_count": 28,
   "metadata": {
    "collapsed": false
   },
   "outputs": [
    {
     "ename": "NameError",
     "evalue": "name 'tf' is not defined",
     "output_type": "error",
     "traceback": [
      "\u001b[0;31m---------------------------------------------------------------------------\u001b[0m",
      "\u001b[0;31mNameError\u001b[0m                                 Traceback (most recent call last)",
      "\u001b[0;32m<ipython-input-28-46c10f627f76>\u001b[0m in \u001b[0;36m<module>\u001b[0;34m()\u001b[0m\n\u001b[1;32m     17\u001b[0m \u001b[0;34m\u001b[0m\u001b[0m\n\u001b[1;32m     18\u001b[0m \u001b[0mfileName\u001b[0m \u001b[0;34m=\u001b[0m \u001b[0;34m'brp_f_t06'\u001b[0m\u001b[0;34m\u001b[0m\u001b[0m\n\u001b[0;32m---> 19\u001b[0;31m \u001b[0mfreq_spec_arr\u001b[0m \u001b[0;34m=\u001b[0m \u001b[0mget_frequency_spectrum\u001b[0m\u001b[0;34m(\u001b[0m\u001b[0;34m'Round 2'\u001b[0m\u001b[0;34m,\u001b[0m \u001b[0;34m'brp'\u001b[0m\u001b[0;34m,\u001b[0m \u001b[0mfileName\u001b[0m\u001b[0;34m)\u001b[0m\u001b[0;34m\u001b[0m\u001b[0m\n\u001b[0m\u001b[1;32m     20\u001b[0m \u001b[0;34m\u001b[0m\u001b[0m\n\u001b[1;32m     21\u001b[0m \u001b[0mlen_list\u001b[0m \u001b[0;34m=\u001b[0m \u001b[0mlen\u001b[0m\u001b[0;34m(\u001b[0m\u001b[0mfreq_spec_arr\u001b[0m\u001b[0;34m)\u001b[0m\u001b[0;34m\u001b[0m\u001b[0m\n",
      "\u001b[0;32m<ipython-input-28-46c10f627f76>\u001b[0m in \u001b[0;36mget_frequency_spectrum\u001b[0;34m(folder, sensor, fileName)\u001b[0m\n\u001b[1;32m      1\u001b[0m \u001b[0;32mdef\u001b[0m \u001b[0mget_frequency_spectrum\u001b[0m\u001b[0;34m(\u001b[0m\u001b[0mfolder\u001b[0m\u001b[0;34m,\u001b[0m \u001b[0msensor\u001b[0m\u001b[0;34m,\u001b[0m \u001b[0mfileName\u001b[0m\u001b[0;34m)\u001b[0m\u001b[0;34m:\u001b[0m\u001b[0;34m\u001b[0m\u001b[0m\n\u001b[0;32m----> 2\u001b[0;31m     \u001b[0;32mwith\u001b[0m \u001b[0mtf\u001b[0m\u001b[0;34m.\u001b[0m\u001b[0mSession\u001b[0m\u001b[0;34m(\u001b[0m\u001b[0;34m)\u001b[0m \u001b[0;32mas\u001b[0m \u001b[0msess\u001b[0m\u001b[0;34m:\u001b[0m\u001b[0;34m\u001b[0m\u001b[0m\n\u001b[0m\u001b[1;32m      3\u001b[0m         \u001b[0;31m# from tensorflow.python import debug as tf_debug\u001b[0m\u001b[0;34m\u001b[0m\u001b[0;34m\u001b[0m\u001b[0m\n\u001b[1;32m      4\u001b[0m         \u001b[0;31m# sess = tf_debug.LocalCLIDebugWrapperSession(sess)\u001b[0m\u001b[0;34m\u001b[0m\u001b[0;34m\u001b[0m\u001b[0m\n\u001b[1;32m      5\u001b[0m         \u001b[0msess\u001b[0m\u001b[0;34m.\u001b[0m\u001b[0mrun\u001b[0m\u001b[0;34m(\u001b[0m\u001b[0minit\u001b[0m\u001b[0;34m)\u001b[0m\u001b[0;34m\u001b[0m\u001b[0m\n",
      "\u001b[0;31mNameError\u001b[0m: name 'tf' is not defined"
     ]
    }
   ],
   "source": [
    "def get_frequency_spectrum(folder, sensor, fileName):\n",
    "    with tf.Session() as sess:\n",
    "        # from tensorflow.python import debug as tf_debug\n",
    "        # sess = tf_debug.LocalCLIDebugWrapperSession(sess)\n",
    "        sess.run(init)\n",
    "\n",
    "        [db_powers] = sess.run([magnitude], feed_dict={\n",
    "            audio_file: \"%s/%s/%s.wav\" % (folder, sensor, fileName),\n",
    "        })\n",
    "\n",
    "        freq_spectrum = []\n",
    "        for i in range(db_powers.shape[0]):\n",
    "            # https://www.quora.com/How-do-I-convert-Complex-number-output-generated-by-FFT-algorithm-into-Frequency-vs-Amplitude\n",
    "            frequency = i * math.ceil(sample_rate / fft_length)\n",
    "            freq_spectrum.append([frequency, db_powers[i]])\n",
    "        return freq_spectrum\n",
    "\n",
    "fileName = 'brp_f_t06'\n",
    "freq_spec_arr = get_frequency_spectrum('Round 2', 'brp', fileName)\n",
    "\n",
    "len_list = len(freq_spec_arr)\n",
    "freq = np.empty(len_list)\n",
    "db = np.empty(len_list)\n",
    "i = 0\n",
    "for elem in freq_spec_arr:\n",
    "    freq[i] = elem[0]\n",
    "    db[i] = elem[1]\n",
    "    i += 1\n",
    "plt.plot(freq, db)\n",
    "plt.xlim(0,1500)\n",
    "plt.ylabel('Power [dB]')\n",
    "plt.xlabel('Frequency [Hz]')\n",
    "plt.title('Frequency Spectrum of ' + fileName)\n",
    "plt.show()"
   ]
  },
  {
   "cell_type": "code",
   "execution_count": null,
   "metadata": {
    "collapsed": true
   },
   "outputs": [],
   "source": [
    "folder = 'Round 2/brp'\n",
    "fileName = 'brp_h_t04'\n",
    "sampFreq, snd = wav.read(folder + \"/\" + fileName + '.wav')\n",
    "sampFreq2, snd2 = wav.read('testing' + \"/\" + 'chirp_test.wav')"
   ]
  },
  {
   "cell_type": "code",
   "execution_count": null,
   "metadata": {
    "collapsed": false
   },
   "outputs": [],
   "source": [
    "# ZERO-MEAN \n",
    "snd = (snd - snd.mean()) / snd.std()\n",
    "#snd = snd[50000:1450000] #used for dropouts\n",
    "\n",
    "# 60 HZ INTERFERENCE NOTCH FILTER\n",
    "f0 = 60.0  # Frequency to be removed from signal (Hz)\n",
    "Q = 40.0  # Quality factor\n",
    "w0 = f0/(sampFreq/2)  # Normalized Frequency\n",
    "# Design notch filter\n",
    "b, a = signal.iirnotch(w0, Q)\n",
    "snd = signal.filtfilt(b, a, snd)\n",
    "\n",
    "\n",
    "\n",
    "\n",
    "snd2 = (snd2 - snd2.mean()) / snd2.std()\n",
    "\n",
    "# 60 HZ INTERFERENCE NOTCH FILTER\n",
    "f0 = 60.0  # Frequency to be removed from signal (Hz)\n",
    "Q = 40.0  # Quality factor\n",
    "w0 = f0/(sampFreq/2)  # Normalized Frequency\n",
    "# Design notch filter\n",
    "b, a = signal.iirnotch(w0, Q)\n",
    "snd2 = signal.filtfilt(b, a, snd2)\n",
    "snd = snd[:1500000]\n",
    "ps_subtract = snd2-snd\n",
    "\n",
    "plt.plot(ps_subtract)\n",
    "plt.show()"
   ]
  },
  {
   "cell_type": "code",
   "execution_count": null,
   "metadata": {
    "collapsed": true
   },
   "outputs": [],
   "source": [
    "scaled = np.int16(snd/np.max(np.abs(snd)) * 32767)\n",
    "write(folder + fileName + '_subtracted' + '.wav', 100000, scaled)"
   ]
  },
  {
   "cell_type": "markdown",
   "metadata": {},
   "source": [
    "## Archived"
   ]
  },
  {
   "cell_type": "code",
   "execution_count": null,
   "metadata": {
    "collapsed": false,
    "scrolled": true
   },
   "outputs": [],
   "source": [
    "sr = 100000\n",
    "freqs = np.arange(0, (sr/2)-1, 1)\n",
    "ybegin = snd\n",
    "fftdata2 = fft(ybegin)\n",
    "fftdata2 = fftdata2[1:50000]\n",
    "plt.xlim([0,1000])\n",
    "plt.plot(freqs, abs(fftdata2))\n",
    "plt.show()\n",
    "\n",
    "#REFERENCE: http://digitalsoundandmusic.com/2-3-10-windowing-the-fft/"
   ]
  },
  {
   "cell_type": "code",
   "execution_count": null,
   "metadata": {
    "collapsed": true
   },
   "outputs": [],
   "source": [
    "#IMPORTANT: ALIGN THE SIGNAL AND MAKE SURE ARRAYS ARE THE SAME SIZE TO RUN THIS.\n",
    "#TO DO: TRY THE CLAPPING METHOD.\n",
    "#Refer: https://stackoverflow.com/questions/2445756/how-can-i-calculate-audio-db-level\n",
    "def mag2db(signal, reference):\n",
    "    sig = signal.copy()\n",
    "    ref = reference.copy()\n",
    "    sig_min = np.amin(sig)\n",
    "    sig += sig_min #shift up to 0\n",
    "    sig = sig/65535 #16 bit scaling\n",
    "    \n",
    "    ref_min = np.amin(ref)\n",
    "    ref += ref_min #shift up to 0\n",
    "    ref= ref/65535 #16 bit scaling between 0 and 1\n",
    "    \n",
    "    if len(sig) > len(ref):\n",
    "        ref = np.pad(reference, (0,len(sig) - len(ref)), 'constant')\n",
    "        \n",
    "    elif len(sig) < len(ref):\n",
    "        sig = np.pad(signal, (0,len(ref) - len(sig)), 'constant')\n",
    "    \n",
    "    signal_db = 20*np.log10(np.divide(sig,ref))\n",
    "    return signal_db\n",
    "\n",
    "\n",
    "sig_db = mag2db(snd3, snd)\n",
    "\n",
    "plt.plot(sig_db)\n",
    "plt.ylabel('dB')\n",
    "plt.xlabel('sample #')\n",
    "plt.show()"
   ]
  },
  {
   "cell_type": "code",
   "execution_count": null,
   "metadata": {
    "collapsed": true
   },
   "outputs": [],
   "source": [
    "#?? i dont know what this is for anymore lol http://samcarcagno.altervista.org/blog/basic-sound-processing-python/?doing_wp_cron=1532489611.3004920482635498046875\n",
    "n = len(snd) \n",
    "p = fft(snd) # take the fourier transform \n",
    "nUniquePts = int(np.ceil((n+1)/2.0))\n",
    "p = p[0:nUniquePts]\n",
    "p = abs(p)\n",
    "\n",
    "n2 = len(snd2) #CHANGE HERE AND BELOW\n",
    "p2 = fft(snd2)\n",
    "nUniquePts2 = int(np.ceil((n+1)/2.0))\n",
    "p2 = p2[0:nUniquePts2]\n",
    "p2 = abs(p2)"
   ]
  },
  {
   "cell_type": "code",
   "execution_count": null,
   "metadata": {
    "collapsed": true
   },
   "outputs": [],
   "source": [
    "p = p / float(n) # scale by the number of points so that\n",
    "                 # the magnitude does not depend on the length \n",
    "                 # of the signal or on its sampling frequency  \n",
    "p = p**2  # square it to get the power \n",
    "\n",
    "# multiply by two (see technical document for details)\n",
    "# odd nfft excludes Nyquist point\n",
    "if n % 2 > 0: # we've got odd number of points fft\n",
    "    p[1:len(p)] = p[1:len(p)] * 2\n",
    "else:\n",
    "    p[1:len(p) -1] = p[1:len(p) - 1] * 2 # we've got even number of points fft\n",
    "    \n",
    "p2 = p2 / float(n2) # scale by the number of points so that\n",
    "                 # the magnitude does not depend on the length \n",
    "                 # of the signal or on its sampling frequency  \n",
    "p2 = p2**2  # square it to get the power \n",
    "\n",
    "# multiply by two (see technical document for details)\n",
    "# odd nfft excludes Nyquist point\n",
    "if n2 % 2 > 0: # we've got odd number of points fft\n",
    "    p2[1:len(p2)] = p2[1:len(p2)] * 2\n",
    "else:\n",
    "    p2[1:len(p2) -1] = p2[1:len(p2) - 1] * 2 # we've got even number of points fft\n",
    "    \n",
    "freqArray = np.arange(0, nUniquePts, 1.0) * (sampFreq / n);\n",
    "fig = plt.figure()\n",
    "plt.plot(freqArray/1000, 10*np.log10(p2/p), color='k')\n",
    "plt.title('dB of ' + fileName + ' compared to ' + fileName2) #CHANGE HERE\n",
    "plt.xlabel('Frequency (kHz)')\n",
    "plt.ylabel('Power (dB)')\n",
    "plt.xlim([0,0.5])\n",
    "plt.show()"
   ]
  },
  {
   "cell_type": "code",
   "execution_count": null,
   "metadata": {
    "collapsed": true
   },
   "outputs": [],
   "source": [
    "rms_val = np.sqrt(np.mean(snd**2))\n",
    "print(rms_val)\n",
    "print(np.sqrt(np.sum(p)))\n",
    "\n",
    "rms_val2 = np.sqrt(np.mean(snd2**2))\n",
    "print(rms_val2)\n",
    "print(np.sqrt(np.sum(p2)))"
   ]
  }
 ],
 "metadata": {
  "kernelspec": {
   "display_name": "Python 3",
   "language": "python",
   "name": "python3"
  },
  "language_info": {
   "codemirror_mode": {
    "name": "ipython",
    "version": 3
   },
   "file_extension": ".py",
   "mimetype": "text/x-python",
   "name": "python",
   "nbconvert_exporter": "python",
   "pygments_lexer": "ipython3",
   "version": "3.6.0"
  }
 },
 "nbformat": 4,
 "nbformat_minor": 2
}
